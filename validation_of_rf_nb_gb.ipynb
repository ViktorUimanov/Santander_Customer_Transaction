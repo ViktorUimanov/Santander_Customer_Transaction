{
 "cells": [
  {
   "cell_type": "code",
   "execution_count": 2,
   "metadata": {},
   "outputs": [],
   "source": [
    "from utils.models_handler import SklearnHelper\n",
    "from utils.models_handler import Gboosting, get_oof\n",
    "from utils.preprocessing import preprocess_data"
   ]
  },
  {
   "cell_type": "code",
   "execution_count": 2,
   "metadata": {},
   "outputs": [],
   "source": [
    "import pandas as pd\n",
    "import numpy as np\n",
    "from sklearn.ensemble import RandomForestClassifier\n",
    "from sklearn.neighbors import KNeighborsClassifier\n",
    "from sklearn.linear_model import LogisticRegression\n",
    "import lightgbm as lgb\n",
    "from sklearn.naive_bayes import GaussianNB"
   ]
  },
  {
   "cell_type": "code",
   "execution_count": 3,
   "metadata": {},
   "outputs": [],
   "source": [
    "\n",
    "from sklearn.metrics import accuracy_score, roc_auc_score"
   ]
  },
  {
   "cell_type": "code",
   "execution_count": null,
   "metadata": {},
   "outputs": [],
   "source": [
    "train_df = pd.read_csv('data/train.csv')\n",
    "test_df = pd.read_csv('data/test.csv')\n",
    "X_train, y_train, X_test = preprocess_data(train_df, test_df)"
   ]
  },
  {
   "cell_type": "code",
   "execution_count": null,
   "metadata": {},
   "outputs": [],
   "source": [
    "params_rf = {'max_depth' : 3,\n",
    "          'criterion' : 'entropy',\n",
    "          'min_samples_split' : 2,\n",
    "          'n_estimators' : 500,\n",
    "    'n_jobs' : -1}\n",
    "\n",
    "    \n",
    "params_svc = {'kernel' : 'rbf',\n",
    "              'C':0.01,\n",
    "              'max_iter' : 7000,\n",
    "              'probability' : True}\n",
    "\n",
    "params_knn = {\n",
    "    'n_neighbors' : 5,\n",
    "    'n_jobs' : -1\n",
    "}\n",
    "\n",
    "params_gbt = {\n",
    "    'bagging_freq': 5,\n",
    "    'bagging_fraction': 0.5, ## \n",
    "    'boost_from_average': False, ## \n",
    "    'boost': 'gbdt', ## \n",
    "    'feature_fraction': 0.1, ##\n",
    "    'learning_rate': 0.01, \n",
    "    'max_depth': 5,  \n",
    "    'metric':'auc',\n",
    "    'min_data_in_leaf': 80,\n",
    "    'min_sum_hessian_in_leaf': 10.0,\n",
    "    'num_leaves': 16,\n",
    "    'tree_learner': 'serial',\n",
    "    'objective': 'binary',\n",
    "    'num_round' : 500_000, \n",
    "    'early_stopping_round' : 3000,\n",
    "    'n_jobs' : -1\n",
    "  \n",
    "}\n",
    "\n",
    "params_nb = {\n",
    "    'priors':None, \n",
    "    'var_smoothing':1e-09\n",
    "}"
   ]
  },
  {
   "cell_type": "code",
   "execution_count": null,
   "metadata": {},
   "outputs": [],
   "source": [
    "train_df = np.concat([X_train, y_train], axis = 1)\n",
    "Gb = Gboosting(train_df,test_df, params_gbt)\n",
    "predictions_gb = Gb.make_predictions()"
   ]
  },
  {
   "cell_type": "code",
   "execution_count": null,
   "metadata": {},
   "outputs": [],
   "source": [
    "\n",
    "rf = SklearnHelper(clf=RandomForestClassifier, seed=SEED, params=params_rf)\n",
    "# lr = SklearnHelper(clf = LogisticRegression, seed=SEED)\n",
    "svc = SklearnHelper(clf=SVC, seed=SEED, params=params_svc)\n",
    "## knn = SklearnHelper(clf=KNeighborsClassifier, seed=SEED, params=params_knn)\n",
    "nb = SklearnHelper(clf=GaussianNB, seed=SEED, params = params_nb, bayes = True)"
   ]
  },
  {
   "cell_type": "code",
   "execution_count": null,
   "metadata": {},
   "outputs": [],
   "source": [
    "et_oof_train, et_oof_test = get_oof(svc, X_train, y_train, X_test, model_name = 'svc')\n",
    "et_oof_train, et_oof_test = get_oof(rf, X_train, y_train, X_test, model_name = 'rf')\n",
    "et_oof_train, et_oof_test = get_oof(nb, X_train, y_train, X_test, model_name = 'nb')"
   ]
  }
 ],
 "metadata": {
  "kernelspec": {
   "display_name": "Python 3",
   "language": "python",
   "name": "python3"
  },
  "language_info": {
   "codemirror_mode": {
    "name": "ipython",
    "version": 3
   },
   "file_extension": ".py",
   "mimetype": "text/x-python",
   "name": "python",
   "nbconvert_exporter": "python",
   "pygments_lexer": "ipython3",
   "version": "3.7.6"
  }
 },
 "nbformat": 4,
 "nbformat_minor": 4
}
